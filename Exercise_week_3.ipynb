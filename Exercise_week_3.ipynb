{
  "nbformat": 4,
  "nbformat_minor": 0,
  "metadata": {
    "colab": {
      "provenance": []
    },
    "kernelspec": {
      "name": "python3",
      "display_name": "Python 3"
    },
    "language_info": {
      "name": "python"
    }
  },
  "cells": [
    {
      "cell_type": "code",
      "execution_count": null,
      "metadata": {
        "id": "q4CttARTSlMj"
      },
      "outputs": [],
      "source": [
        "!mkdir -p /resources/data"
      ]
    },
    {
      "cell_type": "code",
      "source": [
        "with open('/resources/data/Biodata.txt', 'a') as writefile:\n",
        "  writefile.write(\"Nama           : Rahma Dwi Kartika Sari\\n\")\n",
        "  writefile.write(\"Program Studi  : S1 Teknologi Informasi\\n\")\n",
        "  writefile.write(\"NPM            : 240506008\\n\")\n",
        "  writefile.write(\"Alamat         : Desa Rejosari, Kec. Bandongan, Kab. Magelang\\n\")\n",
        "  writefile.write(\"Hobi           : Membaca\\n\")\n",
        "  writefile.write(\"Email          : rahmaa.krty@gmail.com\\n\")"
      ],
      "metadata": {
        "id": "oapOiWSwSrfa"
      },
      "execution_count": null,
      "outputs": []
    },
    {
      "cell_type": "code",
      "source": [
        "with open('/resources/data/Biodata.txt', 'r') as readfile:\n",
        "    lines = readfile.readlines()\n",
        "\n",
        "    for line in lines:\n",
        "        if \"Nama\" in line or \"Program Studi\" in line or \"Email\" in line:\n",
        "            print(line.strip())"
      ],
      "metadata": {
        "colab": {
          "base_uri": "https://localhost:8080/"
        },
        "id": "ybuS8_-BSuHs",
        "outputId": "cffe5045-4813-44ee-e281-b2a65d726111"
      },
      "execution_count": null,
      "outputs": [
        {
          "output_type": "stream",
          "name": "stdout",
          "text": [
            "Nama           : Rahma Dwi Kartika Sari\n",
            "Program Studi  : S1 Teknologi Informasi\n",
            "Email          : rahmaa.krty@gmail.com\n"
          ]
        }
      ]
    },
    {
      "cell_type": "code",
      "source": [
        "with open('/resources/data/Biodata.txt', 'r') as readfile:\n",
        "    with open('/resources/data/Biodata2.txt', 'w') as writefile:\n",
        "        for line in readfile:\n",
        "            if any(keyword in line for keyword in [\"Nama\", \"NPM\", \"Program Studi\", \"Alamat\"]):\n",
        "                writefile.write(line)"
      ],
      "metadata": {
        "id": "Tb5aS6DPSvsz"
      },
      "execution_count": null,
      "outputs": []
    },
    {
      "cell_type": "code",
      "source": [
        "with open('/resources/data/Biodata2.txt','r') as writefile:\n",
        "    print(writefile.read())"
      ],
      "metadata": {
        "colab": {
          "base_uri": "https://localhost:8080/"
        },
        "id": "ZuKJiCn6Syp2",
        "outputId": "88cae556-dc34-4f91-9c71-1d5eec2ca6d5"
      },
      "execution_count": null,
      "outputs": [
        {
          "output_type": "stream",
          "name": "stdout",
          "text": [
            "Nama           : Rahma Dwi Kartika Sari\n",
            "Program Studi  : S1 Teknologi Informasi\n",
            "NPM            : 240506008\n",
            "Alamat         : Desa Rejosari, Kec. Bandongan, Kab. Magelang\n",
            "\n"
          ]
        }
      ]
    },
    {
      "cell_type": "code",
      "source": [
        "print ('Selamat datang di Toko Maju Jaya')\n",
        "print('Senin, 4 September', 2023, '13:05')\n",
        "\n",
        "\n",
        "print('')\n",
        "\n",
        "print ('DAFTAR BELANJA:')\n",
        "item1 = 'Sabun'\n",
        "item2 = 'Shampo'\n",
        "item3 = 'Mie instant'\n",
        "item4 = 'Detergen'\n",
        "harga1 = 10000\n",
        "harga2 = 15000\n",
        "harga3 = 5000\n",
        "harga4 = 17500\n",
        "\n",
        "total = harga1+harga2+harga3+harga4\n",
        "\n",
        "print(f'{item1} = Rp {harga1:,}'.replace(',', '.'))\n",
        "print(f'{item2} = Rp {harga2:,}'.replace(',', '.'))\n",
        "print(f'{item3} = Rp {harga3:,}'.replace(',', '.'))\n",
        "print(f'{item4} = Rp {harga4:,}'.replace(',', '.'))\n",
        "\n",
        "print('')\n",
        "formatted_total = f'{total:,}'.replace(',', '.')\n",
        "print(f'{total} = Rp {formatted_total}')\n",
        "\n",
        "with open('Kuitansi.txt', 'w') as writefile:\n",
        "    writefile.write('Selamat Datang di Toko Maju Jaya\\n')\n",
        "    writefile.write('\\n')\n",
        "    writefile.write('Kuitansi 4 September 2023\\n')\n",
        "    writefile.write('\\n')\n",
        "    writefile.write(f'{item1} = Rp {harga1:,}'.replace(',', '.') + '\\n')\n",
        "    writefile.write(f'{item2} = Rp {harga2:,}'.replace(',', '.') + '\\n')\n",
        "    writefile.write(f'{item3} = Rp {harga3:,}'.replace(',', '.') + '\\n')\n",
        "    writefile.write(f'{item4} = Rp {harga4:,}'.replace(',', '.') + '\\n')\n",
        "    writefile.write('\\n')\n",
        "    writefile.write(f'Total Belanja = Rp {total:,}'.replace(',', '.'))"
      ],
      "metadata": {
        "colab": {
          "base_uri": "https://localhost:8080/"
        },
        "id": "re87VThjS1aQ",
        "outputId": "5a955b4d-82d3-4810-c4d8-ea5ae6243b07"
      },
      "execution_count": null,
      "outputs": [
        {
          "output_type": "stream",
          "name": "stdout",
          "text": [
            "Selamat datang di Toko Maju Jaya\n",
            "Senin, 4 September 2023 13:05\n",
            "\n",
            "DAFTAR BELANJA:\n",
            "Sabun = Rp 10.000\n",
            "Shampo = Rp 15.000\n",
            "Mie instant = Rp 5.000\n",
            "Detergen = Rp 17.500\n",
            "\n",
            "47500 = Rp 47.500\n"
          ]
        }
      ]
    }
  ]
}